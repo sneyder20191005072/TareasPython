{
  "nbformat": 4,
  "nbformat_minor": 0,
  "metadata": {
    "colab": {
      "name": "obs.ipynb",
      "provenance": [],
      "authorship_tag": "ABX9TyMTiqkyzgf/amWRpI0PiTbO",
      "include_colab_link": true
    },
    "kernelspec": {
      "name": "python3",
      "display_name": "Python 3"
    },
    "language_info": {
      "name": "python"
    }
  },
  "cells": [
    {
      "cell_type": "markdown",
      "metadata": {
        "id": "view-in-github",
        "colab_type": "text"
      },
      "source": [
        "<a href=\"https://colab.research.google.com/github/sneyder20191005072/TareasPython/blob/main/obs/obs.ipynb\" target=\"_parent\"><img src=\"https://colab.research.google.com/assets/colab-badge.svg\" alt=\"Open In Colab\"/></a>"
      ]
    },
    {
      "cell_type": "code",
      "metadata": {
        "colab": {
          "base_uri": "https://localhost:8080/"
        },
        "id": "pf1PY75dOlUi",
        "outputId": "0a84d84d-a075-450a-a218-67abfb28f5d4"
      },
      "source": [
        "import os\n",
        "osgetcwd()"
      ],
      "execution_count": 1,
      "outputs": [
        {
          "output_type": "stream",
          "text": [
            "/content\n"
          ],
          "name": "stdout"
        }
      ]
    },
    {
      "cell_type": "code",
      "metadata": {
        "colab": {
          "base_uri": "https://localhost:8080/",
          "height": 235
        },
        "id": "n2FoBImSQ2is",
        "outputId": "3718195b-c5f6-417f-a7cc-500a85d71b52"
      },
      "source": [
        "import os\n",
        "os.mkdir('modulo1')\n",
        "os.mkdir('modulo1/observaciones')\n",
        "os.mkdir('modulo2/observaciones')\n",
        "os.mkdir('modulo3/observaciones')"
      ],
      "execution_count": 3,
      "outputs": [
        {
          "output_type": "error",
          "ename": "FileExistsError",
          "evalue": "ignored",
          "traceback": [
            "\u001b[0;31m---------------------------------------------------------------------------\u001b[0m",
            "\u001b[0;31mFileExistsError\u001b[0m                           Traceback (most recent call last)",
            "\u001b[0;32m<ipython-input-3-059b588f7558>\u001b[0m in \u001b[0;36m<module>\u001b[0;34m()\u001b[0m\n\u001b[1;32m      1\u001b[0m \u001b[0;32mimport\u001b[0m \u001b[0mos\u001b[0m\u001b[0;34m\u001b[0m\u001b[0;34m\u001b[0m\u001b[0m\n\u001b[0;32m----> 2\u001b[0;31m \u001b[0mos\u001b[0m\u001b[0;34m.\u001b[0m\u001b[0mmkdir\u001b[0m\u001b[0;34m(\u001b[0m\u001b[0;34m'modulo1'\u001b[0m\u001b[0;34m)\u001b[0m\u001b[0;34m\u001b[0m\u001b[0;34m\u001b[0m\u001b[0m\n\u001b[0m\u001b[1;32m      3\u001b[0m \u001b[0mos\u001b[0m\u001b[0;34m.\u001b[0m\u001b[0mmkdir\u001b[0m\u001b[0;34m(\u001b[0m\u001b[0;34m'modulo1/observaciones'\u001b[0m\u001b[0;34m)\u001b[0m\u001b[0;34m\u001b[0m\u001b[0;34m\u001b[0m\u001b[0m\n\u001b[1;32m      4\u001b[0m \u001b[0mos\u001b[0m\u001b[0;34m.\u001b[0m\u001b[0mmkdir\u001b[0m\u001b[0;34m(\u001b[0m\u001b[0;34m'modulo2/observaciones'\u001b[0m\u001b[0;34m)\u001b[0m\u001b[0;34m\u001b[0m\u001b[0;34m\u001b[0m\u001b[0m\n\u001b[1;32m      5\u001b[0m \u001b[0mos\u001b[0m\u001b[0;34m.\u001b[0m\u001b[0mmkdir\u001b[0m\u001b[0;34m(\u001b[0m\u001b[0;34m'modulo3/observaciones'\u001b[0m\u001b[0;34m)\u001b[0m\u001b[0;34m\u001b[0m\u001b[0;34m\u001b[0m\u001b[0m\n",
            "\u001b[0;31mFileExistsError\u001b[0m: [Errno 17] File exists: 'modulo1'"
          ]
        }
      ]
    },
    {
      "cell_type": "code",
      "metadata": {
        "id": "ORzetfupSE5c"
      },
      "source": [
        "import os\n",
        "os.mkdir('modulo1/observaciones')\n",
        "os.mkdir('modulo2/observaciones')\n",
        "os.mkdir('modulo3/observaciones')\n"
      ],
      "execution_count": 4,
      "outputs": []
    },
    {
      "cell_type": "code",
      "metadata": {
        "id": "mF00GGKgTL1E"
      },
      "source": [
        "import os\n",
        "file = open('modulo1/myfilecomentario1.txt','a+')"
      ],
      "execution_count": 6,
      "outputs": []
    },
    {
      "cell_type": "code",
      "metadata": {
        "id": "1mnYwg27WBkF"
      },
      "source": [
        "file = open('modulo2/comentario2.txt','a+')\n",
        "file = open('modulo3/comentario3.txt','a+')"
      ],
      "execution_count": 7,
      "outputs": []
    },
    {
      "cell_type": "code",
      "metadata": {
        "colab": {
          "base_uri": "https://localhost:8080/"
        },
        "id": "cnXXL6-iWMzj",
        "outputId": "f1a669b2-7c79-4434-99d5-ae1d56568d16"
      },
      "source": [
        "import os\n",
        "os.listdir()\n"
      ],
      "execution_count": 9,
      "outputs": [
        {
          "output_type": "execute_result",
          "data": {
            "text/plain": [
              "['.config', 'modulo2', 'modulo3', 'modulo1', 'sample_data']"
            ]
          },
          "metadata": {},
          "execution_count": 9
        }
      ]
    },
    {
      "cell_type": "code",
      "metadata": {
        "id": "UQTgc2zzWq5x"
      },
      "source": [
        "import os\n",
        "os.rename('modulo1','modulacion')\n",
        "os.rename('modulo2','transicion')\n",
        "os.rename('modulo3','copiadeseguridad')"
      ],
      "execution_count": 10,
      "outputs": []
    },
    {
      "cell_type": "code",
      "metadata": {
        "colab": {
          "base_uri": "https://localhost:8080/"
        },
        "id": "pRhTcNfcXa3W",
        "outputId": "387dc8bd-f983-438b-f422-208cb07dd5b5"
      },
      "source": [
        "import os\n",
        "os.stat('modulacion')"
      ],
      "execution_count": 11,
      "outputs": [
        {
          "output_type": "execute_result",
          "data": {
            "text/plain": [
              "os.stat_result(st_mode=16877, st_ino=6029314, st_dev=49, st_nlink=3, st_uid=0, st_gid=0, st_size=4096, st_atime=1629325517, st_mtime=1629325086, st_ctime=1629325468)"
            ]
          },
          "metadata": {},
          "execution_count": 11
        }
      ]
    }
  ]
}